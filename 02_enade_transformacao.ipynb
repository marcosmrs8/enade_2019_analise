{
 "cells": [
  {
   "cell_type": "markdown",
   "id": "8b37b835-ec9d-4a13-9ee1-63466aa7ab84",
   "metadata": {},
   "source": [
    "# Enade - transformação de Dados - parte 01\n"
   ]
  },
  {
   "cell_type": "code",
   "execution_count": 1,
   "id": "a0433687-9c93-4b50-8557-6ca29b837f3f",
   "metadata": {},
   "outputs": [],
   "source": [
    "# importar as bibliotecas necessarias\n",
    "import pandas as pd\n",
    "import numpy as np\n",
    "import os\n",
    "\n"
   ]
  },
  {
   "cell_type": "code",
   "execution_count": 32,
   "id": "2f2d950e-64db-4c07-a2f2-002b38be1070",
   "metadata": {},
   "outputs": [],
   "source": [
    "enade = pd.read_csv(\"./enade2019/3.DADOS/microdados_enade_2019.txt\",sep = ';', decimal =',', dtype='unicode')"
   ]
  },
  {
   "cell_type": "code",
   "execution_count": 3,
   "id": "cbb10222-f49e-4237-b2ad-468b2fce49b3",
   "metadata": {},
   "outputs": [
    {
     "data": {
      "text/html": [
       "<div>\n",
       "<style scoped>\n",
       "    .dataframe tbody tr th:only-of-type {\n",
       "        vertical-align: middle;\n",
       "    }\n",
       "\n",
       "    .dataframe tbody tr th {\n",
       "        vertical-align: top;\n",
       "    }\n",
       "\n",
       "    .dataframe thead th {\n",
       "        text-align: right;\n",
       "    }\n",
       "</style>\n",
       "<table border=\"1\" class=\"dataframe\">\n",
       "  <thead>\n",
       "    <tr style=\"text-align: right;\">\n",
       "      <th></th>\n",
       "      <th>NU_ANO</th>\n",
       "      <th>CO_IES</th>\n",
       "      <th>CO_CATEGAD</th>\n",
       "      <th>CO_ORGACAD</th>\n",
       "      <th>CO_GRUPO</th>\n",
       "      <th>CO_CURSO</th>\n",
       "      <th>CO_MODALIDADE</th>\n",
       "      <th>CO_MUNIC_CURSO</th>\n",
       "      <th>CO_UF_CURSO</th>\n",
       "      <th>CO_REGIAO_CURSO</th>\n",
       "      <th>...</th>\n",
       "      <th>QE_I59</th>\n",
       "      <th>QE_I60</th>\n",
       "      <th>QE_I61</th>\n",
       "      <th>QE_I62</th>\n",
       "      <th>QE_I63</th>\n",
       "      <th>QE_I64</th>\n",
       "      <th>QE_I65</th>\n",
       "      <th>QE_I66</th>\n",
       "      <th>QE_I67</th>\n",
       "      <th>QE_I68</th>\n",
       "    </tr>\n",
       "  </thead>\n",
       "  <tbody>\n",
       "    <tr>\n",
       "      <th>0</th>\n",
       "      <td>2019</td>\n",
       "      <td>1</td>\n",
       "      <td>10002</td>\n",
       "      <td>10028</td>\n",
       "      <td>5710</td>\n",
       "      <td>3</td>\n",
       "      <td>1</td>\n",
       "      <td>5103403</td>\n",
       "      <td>51</td>\n",
       "      <td>5</td>\n",
       "      <td>...</td>\n",
       "      <td>2.0</td>\n",
       "      <td>5.0</td>\n",
       "      <td>1.0</td>\n",
       "      <td>1.0</td>\n",
       "      <td>2.0</td>\n",
       "      <td>5.0</td>\n",
       "      <td>8.0</td>\n",
       "      <td>7.0</td>\n",
       "      <td>1.0</td>\n",
       "      <td>2.0</td>\n",
       "    </tr>\n",
       "    <tr>\n",
       "      <th>1</th>\n",
       "      <td>2019</td>\n",
       "      <td>1</td>\n",
       "      <td>10002</td>\n",
       "      <td>10028</td>\n",
       "      <td>5710</td>\n",
       "      <td>3</td>\n",
       "      <td>1</td>\n",
       "      <td>5103403</td>\n",
       "      <td>51</td>\n",
       "      <td>5</td>\n",
       "      <td>...</td>\n",
       "      <td>1.0</td>\n",
       "      <td>4.0</td>\n",
       "      <td>2.0</td>\n",
       "      <td>2.0</td>\n",
       "      <td>2.0</td>\n",
       "      <td>5.0</td>\n",
       "      <td>4.0</td>\n",
       "      <td>4.0</td>\n",
       "      <td>2.0</td>\n",
       "      <td>2.0</td>\n",
       "    </tr>\n",
       "    <tr>\n",
       "      <th>2</th>\n",
       "      <td>2019</td>\n",
       "      <td>1</td>\n",
       "      <td>10002</td>\n",
       "      <td>10028</td>\n",
       "      <td>5710</td>\n",
       "      <td>3</td>\n",
       "      <td>1</td>\n",
       "      <td>5103403</td>\n",
       "      <td>51</td>\n",
       "      <td>5</td>\n",
       "      <td>...</td>\n",
       "      <td>3.0</td>\n",
       "      <td>4.0</td>\n",
       "      <td>4.0</td>\n",
       "      <td>3.0</td>\n",
       "      <td>3.0</td>\n",
       "      <td>4.0</td>\n",
       "      <td>1.0</td>\n",
       "      <td>1.0</td>\n",
       "      <td>1.0</td>\n",
       "      <td>4.0</td>\n",
       "    </tr>\n",
       "    <tr>\n",
       "      <th>3</th>\n",
       "      <td>2019</td>\n",
       "      <td>1</td>\n",
       "      <td>10002</td>\n",
       "      <td>10028</td>\n",
       "      <td>5710</td>\n",
       "      <td>3</td>\n",
       "      <td>1</td>\n",
       "      <td>5103403</td>\n",
       "      <td>51</td>\n",
       "      <td>5</td>\n",
       "      <td>...</td>\n",
       "      <td>3.0</td>\n",
       "      <td>5.0</td>\n",
       "      <td>2.0</td>\n",
       "      <td>2.0</td>\n",
       "      <td>2.0</td>\n",
       "      <td>3.0</td>\n",
       "      <td>3.0</td>\n",
       "      <td>4.0</td>\n",
       "      <td>3.0</td>\n",
       "      <td>3.0</td>\n",
       "    </tr>\n",
       "    <tr>\n",
       "      <th>4</th>\n",
       "      <td>2019</td>\n",
       "      <td>1</td>\n",
       "      <td>10002</td>\n",
       "      <td>10028</td>\n",
       "      <td>5710</td>\n",
       "      <td>3</td>\n",
       "      <td>1</td>\n",
       "      <td>5103403</td>\n",
       "      <td>51</td>\n",
       "      <td>5</td>\n",
       "      <td>...</td>\n",
       "      <td>NaN</td>\n",
       "      <td>NaN</td>\n",
       "      <td>NaN</td>\n",
       "      <td>NaN</td>\n",
       "      <td>NaN</td>\n",
       "      <td>NaN</td>\n",
       "      <td>NaN</td>\n",
       "      <td>NaN</td>\n",
       "      <td>NaN</td>\n",
       "      <td>NaN</td>\n",
       "    </tr>\n",
       "  </tbody>\n",
       "</table>\n",
       "<p>5 rows × 137 columns</p>\n",
       "</div>"
      ],
      "text/plain": [
       "   NU_ANO  CO_IES  CO_CATEGAD  CO_ORGACAD  CO_GRUPO  CO_CURSO  CO_MODALIDADE  \\\n",
       "0    2019       1       10002       10028      5710         3              1   \n",
       "1    2019       1       10002       10028      5710         3              1   \n",
       "2    2019       1       10002       10028      5710         3              1   \n",
       "3    2019       1       10002       10028      5710         3              1   \n",
       "4    2019       1       10002       10028      5710         3              1   \n",
       "\n",
       "   CO_MUNIC_CURSO  CO_UF_CURSO  CO_REGIAO_CURSO  ...  QE_I59 QE_I60  QE_I61  \\\n",
       "0         5103403           51                5  ...     2.0    5.0     1.0   \n",
       "1         5103403           51                5  ...     1.0    4.0     2.0   \n",
       "2         5103403           51                5  ...     3.0    4.0     4.0   \n",
       "3         5103403           51                5  ...     3.0    5.0     2.0   \n",
       "4         5103403           51                5  ...     NaN    NaN     NaN   \n",
       "\n",
       "   QE_I62  QE_I63  QE_I64  QE_I65  QE_I66  QE_I67  QE_I68  \n",
       "0     1.0     2.0     5.0     8.0     7.0     1.0     2.0  \n",
       "1     2.0     2.0     5.0     4.0     4.0     2.0     2.0  \n",
       "2     3.0     3.0     4.0     1.0     1.0     1.0     4.0  \n",
       "3     2.0     2.0     3.0     3.0     4.0     3.0     3.0  \n",
       "4     NaN     NaN     NaN     NaN     NaN     NaN     NaN  \n",
       "\n",
       "[5 rows x 137 columns]"
      ]
     },
     "execution_count": 3,
     "metadata": {},
     "output_type": "execute_result"
    }
   ],
   "source": [
    "enade.head()"
   ]
  },
  {
   "cell_type": "code",
   "execution_count": 4,
   "id": "950d40b5-9b04-40b4-ab62-9c9a362ec204",
   "metadata": {},
   "outputs": [
    {
     "data": {
      "text/plain": [
       "{'NU_ANO': dtype('int64'),\n",
       " 'CO_IES': dtype('int64'),\n",
       " 'CO_CATEGAD': dtype('int64'),\n",
       " 'CO_ORGACAD': dtype('int64'),\n",
       " 'CO_GRUPO': dtype('int64'),\n",
       " 'CO_CURSO': dtype('int64'),\n",
       " 'CO_MODALIDADE': dtype('int64'),\n",
       " 'CO_MUNIC_CURSO': dtype('int64'),\n",
       " 'CO_UF_CURSO': dtype('int64'),\n",
       " 'CO_REGIAO_CURSO': dtype('int64'),\n",
       " 'NU_IDADE': dtype('int64'),\n",
       " 'TP_SEXO': dtype('O'),\n",
       " 'ANO_FIM_EM': dtype('int64'),\n",
       " 'ANO_IN_GRAD': dtype('float64'),\n",
       " 'CO_TURNO_GRADUACAO': dtype('float64'),\n",
       " 'TP_INSCRICAO_ADM': dtype('int64'),\n",
       " 'TP_INSCRICAO': dtype('int64'),\n",
       " 'NU_ITEM_OFG': dtype('int64'),\n",
       " 'NU_ITEM_OFG_Z': dtype('int64'),\n",
       " 'NU_ITEM_OFG_X': dtype('int64'),\n",
       " 'NU_ITEM_OFG_N': dtype('int64'),\n",
       " 'NU_ITEM_OCE': dtype('int64'),\n",
       " 'NU_ITEM_OCE_Z': dtype('int64'),\n",
       " 'NU_ITEM_OCE_X': dtype('int64'),\n",
       " 'NU_ITEM_OCE_N': dtype('int64'),\n",
       " 'DS_VT_GAB_OFG_ORIG': dtype('O'),\n",
       " 'DS_VT_GAB_OFG_FIN': dtype('O'),\n",
       " 'DS_VT_GAB_OCE_ORIG': dtype('O'),\n",
       " 'DS_VT_GAB_OCE_FIN': dtype('O'),\n",
       " 'DS_VT_ESC_OFG': dtype('O'),\n",
       " 'DS_VT_ACE_OFG': dtype('O'),\n",
       " 'DS_VT_ESC_OCE': dtype('O'),\n",
       " 'DS_VT_ACE_OCE': dtype('O'),\n",
       " 'TP_PRES': dtype('int64'),\n",
       " 'TP_PR_GER': dtype('int64'),\n",
       " 'TP_PR_OB_FG': dtype('int64'),\n",
       " 'TP_PR_DI_FG': dtype('int64'),\n",
       " 'TP_PR_OB_CE': dtype('int64'),\n",
       " 'TP_PR_DI_CE': dtype('int64'),\n",
       " 'TP_SFG_D1': dtype('int64'),\n",
       " 'TP_SFG_D2': dtype('int64'),\n",
       " 'TP_SCE_D1': dtype('int64'),\n",
       " 'TP_SCE_D2': dtype('int64'),\n",
       " 'TP_SCE_D3': dtype('int64'),\n",
       " 'NT_GER': dtype('O'),\n",
       " 'NT_FG': dtype('O'),\n",
       " 'NT_OBJ_FG': dtype('O'),\n",
       " 'NT_DIS_FG': dtype('O'),\n",
       " 'NT_FG_D1': dtype('O'),\n",
       " 'NT_FG_D1_PT': dtype('O'),\n",
       " 'NT_FG_D1_CT': dtype('O'),\n",
       " 'NT_FG_D2': dtype('O'),\n",
       " 'NT_FG_D2_PT': dtype('O'),\n",
       " 'NT_FG_D2_CT': dtype('O'),\n",
       " 'NT_CE': dtype('O'),\n",
       " 'NT_OBJ_CE': dtype('O'),\n",
       " 'NT_DIS_CE': dtype('O'),\n",
       " 'NT_CE_D1': dtype('O'),\n",
       " 'NT_CE_D2': dtype('O'),\n",
       " 'NT_CE_D3': dtype('O'),\n",
       " 'CO_RS_I1': dtype('O'),\n",
       " 'CO_RS_I2': dtype('O'),\n",
       " 'CO_RS_I3': dtype('O'),\n",
       " 'CO_RS_I4': dtype('O'),\n",
       " 'CO_RS_I5': dtype('O'),\n",
       " 'CO_RS_I6': dtype('O'),\n",
       " 'CO_RS_I7': dtype('O'),\n",
       " 'CO_RS_I8': dtype('O'),\n",
       " 'CO_RS_I9': dtype('O'),\n",
       " 'QE_I01': dtype('O'),\n",
       " 'QE_I02': dtype('O'),\n",
       " 'QE_I03': dtype('O'),\n",
       " 'QE_I04': dtype('O'),\n",
       " 'QE_I05': dtype('O'),\n",
       " 'QE_I06': dtype('O'),\n",
       " 'QE_I07': dtype('O'),\n",
       " 'QE_I08': dtype('O'),\n",
       " 'QE_I09': dtype('O'),\n",
       " 'QE_I10': dtype('O'),\n",
       " 'QE_I11': dtype('O'),\n",
       " 'QE_I12': dtype('O'),\n",
       " 'QE_I13': dtype('O'),\n",
       " 'QE_I14': dtype('O'),\n",
       " 'QE_I15': dtype('O'),\n",
       " 'QE_I16': dtype('O'),\n",
       " 'QE_I17': dtype('O'),\n",
       " 'QE_I18': dtype('O'),\n",
       " 'QE_I19': dtype('O'),\n",
       " 'QE_I20': dtype('O'),\n",
       " 'QE_I21': dtype('O'),\n",
       " 'QE_I22': dtype('O'),\n",
       " 'QE_I23': dtype('O'),\n",
       " 'QE_I24': dtype('O'),\n",
       " 'QE_I25': dtype('O'),\n",
       " 'QE_I26': dtype('O'),\n",
       " 'QE_I27': dtype('O'),\n",
       " 'QE_I28': dtype('O'),\n",
       " 'QE_I29': dtype('O'),\n",
       " 'QE_I30': dtype('O'),\n",
       " 'QE_I31': dtype('O'),\n",
       " 'QE_I32': dtype('O'),\n",
       " 'QE_I33': dtype('O'),\n",
       " 'QE_I34': dtype('O'),\n",
       " 'QE_I35': dtype('O'),\n",
       " 'QE_I36': dtype('O'),\n",
       " 'QE_I37': dtype('O'),\n",
       " 'QE_I38': dtype('O'),\n",
       " 'QE_I39': dtype('O'),\n",
       " 'QE_I40': dtype('O'),\n",
       " 'QE_I41': dtype('O'),\n",
       " 'QE_I42': dtype('O'),\n",
       " 'QE_I43': dtype('O'),\n",
       " 'QE_I44': dtype('O'),\n",
       " 'QE_I45': dtype('O'),\n",
       " 'QE_I46': dtype('O'),\n",
       " 'QE_I47': dtype('O'),\n",
       " 'QE_I48': dtype('O'),\n",
       " 'QE_I49': dtype('O'),\n",
       " 'QE_I50': dtype('O'),\n",
       " 'QE_I51': dtype('O'),\n",
       " 'QE_I52': dtype('O'),\n",
       " 'QE_I53': dtype('O'),\n",
       " 'QE_I54': dtype('O'),\n",
       " 'QE_I55': dtype('O'),\n",
       " 'QE_I56': dtype('O'),\n",
       " 'QE_I57': dtype('O'),\n",
       " 'QE_I58': dtype('O'),\n",
       " 'QE_I59': dtype('O'),\n",
       " 'QE_I60': dtype('O'),\n",
       " 'QE_I61': dtype('O'),\n",
       " 'QE_I62': dtype('O'),\n",
       " 'QE_I63': dtype('O'),\n",
       " 'QE_I64': dtype('O'),\n",
       " 'QE_I65': dtype('O'),\n",
       " 'QE_I66': dtype('O'),\n",
       " 'QE_I67': dtype('O'),\n",
       " 'QE_I68': dtype('O')}"
      ]
     },
     "execution_count": 4,
     "metadata": {},
     "output_type": "execute_result"
    }
   ],
   "source": [
    "dict(enade.dtypes)"
   ]
  },
  {
   "cell_type": "markdown",
   "id": "9acb23f3-151c-4f11-bd40-f507317d1d25",
   "metadata": {},
   "source": [
    "\n",
    "Mais alguns itens do questionário do estudante:\n",
    "- 01: Estado Civil\n",
    "- 02: Cor ou raça\n",
    "- 04: Escolaridade do pai\n",
    "- 05: Escolaridade da mãe\n",
    "- 08: Renda familiar\n",
    "- 10: Situação de trabalho\n",
    "- 11: Situação de bolsa\n",
    "- 14: Intercâmbio\n",
    "- 15: Cotas\n",
    "- 23: Horas de estudo/ semana\n",
    "- 25: Motivo de escolha do curso\n",
    "- 26: Motivo de escolha do IES\n"
   ]
  },
  {
   "cell_type": "code",
   "execution_count": 5,
   "id": "3ca03877-abc4-47ec-a202-8c4bdbabeaf6",
   "metadata": {},
   "outputs": [
    {
     "data": {
      "text/plain": [
       "count     390138.0\n",
       "unique      1571.0\n",
       "top           38.3\n",
       "freq        1031.0\n",
       "Name: NT_GER, dtype: float64"
      ]
     },
     "execution_count": 5,
     "metadata": {},
     "output_type": "execute_result"
    }
   ],
   "source": [
    "# NT_GER\n",
    "enade.NT_GER.describe()"
   ]
  },
  {
   "cell_type": "code",
   "execution_count": 6,
   "id": "b55fe23f-bba9-426f-a5f7-2582114c9c71",
   "metadata": {},
   "outputs": [
    {
     "data": {
      "text/plain": [
       "43792"
      ]
     },
     "execution_count": 6,
     "metadata": {},
     "output_type": "execute_result"
    }
   ],
   "source": [
    "# contar nulos\n",
    "enade.NT_GER.isnull().sum()"
   ]
  },
  {
   "cell_type": "code",
   "execution_count": 7,
   "id": "717c4d4b-c66c-4d31-80ec-82df3c56b6e9",
   "metadata": {},
   "outputs": [
    {
     "data": {
      "text/plain": [
       "(433930, 137)"
      ]
     },
     "execution_count": 7,
     "metadata": {},
     "output_type": "execute_result"
    }
   ],
   "source": [
    "enade.shape # linhas / colunas "
   ]
  },
  {
   "cell_type": "code",
   "execution_count": 8,
   "id": "0871d324-c7fb-4d3c-8803-b3fcdfc92db3",
   "metadata": {},
   "outputs": [
    {
     "data": {
      "text/plain": [
       "0.10091950314566865"
      ]
     },
     "execution_count": 8,
     "metadata": {},
     "output_type": "execute_result"
    }
   ],
   "source": [
    "# quantidade relativa de nulo %\n",
    "enade.NT_GER.isnull().sum() / enade.shape[0]"
   ]
  },
  {
   "cell_type": "code",
   "execution_count": 9,
   "id": "154c20af-3e33-4f9a-b065-050dfc005b3b",
   "metadata": {},
   "outputs": [
    {
     "data": {
      "text/plain": [
       "count     82944.0\n",
       "unique     1271.0\n",
       "top          44.1\n",
       "freq        234.0\n",
       "Name: NT_GER, dtype: float64"
      ]
     },
     "execution_count": 9,
     "metadata": {},
     "output_type": "execute_result"
    }
   ],
   "source": [
    "# acessando estatisticas descritivas da NOTA GERAL\n",
    "# para os alunos da REGIAO Centro-Oeste(5)\n",
    "enade.loc[\n",
    "    enade.CO_REGIAO_CURSO == 2\n",
    "].NT_GER.describe()"
   ]
  },
  {
   "cell_type": "code",
   "execution_count": 10,
   "id": "38f1af7a-05b8-4323-9c8c-cdbc003157dd",
   "metadata": {},
   "outputs": [
    {
     "data": {
      "text/plain": [
       "count    386607.000000\n",
       "mean         44.080826\n",
       "std          14.476595\n",
       "min           0.300000\n",
       "25%          33.200000\n",
       "50%          43.800000\n",
       "75%          54.700000\n",
       "max          93.000000\n",
       "Name: NT_GER, dtype: float64"
      ]
     },
     "execution_count": 10,
     "metadata": {},
     "output_type": "execute_result"
    }
   ],
   "source": [
    "#calculo de estatisticas descritivas para alunos com nota mais que 0\n",
    "enade['NT_GER'] = pd.to_numeric(enade.NT_GER, errors='coerce')\n",
    "enade['NT_FG'] = pd.to_numeric(enade.NT_FG, errors='coerce')\n",
    "enade['NT_CE'] = pd.to_numeric(enade.NT_CE, errors='coerce')\n",
    "enade.loc[\n",
    "    enade.NT_GER > 0\n",
    "].NT_GER.describe()"
   ]
  },
  {
   "cell_type": "code",
   "execution_count": 11,
   "id": "18e44ea7-96e2-41f9-a495-3f1d3e1b4763",
   "metadata": {},
   "outputs": [
    {
     "data": {
      "text/plain": [
       "count    382819.000000\n",
       "mean         44.111764\n",
       "std          14.518625\n",
       "min           0.000000\n",
       "25%          33.300000\n",
       "50%          43.800000\n",
       "75%          54.800000\n",
       "max          93.000000\n",
       "Name: NT_GER, dtype: float64"
      ]
     },
     "execution_count": 11,
     "metadata": {},
     "output_type": "execute_result"
    }
   ],
   "source": [
    "# filtro por idade entre 20 e 50 anos\n",
    "enade.loc[\n",
    "    (enade.NU_IDADE >= 20) & \n",
    "    (enade.NU_IDADE <= 50)\n",
    "].NT_GER.describe()"
   ]
  },
  {
   "cell_type": "code",
   "execution_count": 12,
   "id": "6568c7e0-5edb-4176-a182-97ed6480ab3d",
   "metadata": {},
   "outputs": [
    {
     "data": {
      "text/plain": [
       "F    0.537596\n",
       "M    0.462404\n",
       "Name: TP_SEXO, dtype: float64"
      ]
     },
     "execution_count": 12,
     "metadata": {},
     "output_type": "execute_result"
    }
   ],
   "source": [
    "# tabela cruzada\n",
    "# contar quantos homens e mulheres tem na tabela\n",
    "\n",
    "enade.TP_SEXO.value_counts() / enade.shape[0]"
   ]
  },
  {
   "cell_type": "code",
   "execution_count": 13,
   "id": "5f3bb718-ad3a-44cb-9b88-0e5ec3fb0eb9",
   "metadata": {},
   "outputs": [
    {
     "data": {
      "text/html": [
       "<div>\n",
       "<style scoped>\n",
       "    .dataframe tbody tr th:only-of-type {\n",
       "        vertical-align: middle;\n",
       "    }\n",
       "\n",
       "    .dataframe tbody tr th {\n",
       "        vertical-align: top;\n",
       "    }\n",
       "\n",
       "    .dataframe thead th {\n",
       "        text-align: right;\n",
       "    }\n",
       "</style>\n",
       "<table border=\"1\" class=\"dataframe\">\n",
       "  <thead>\n",
       "    <tr style=\"text-align: right;\">\n",
       "      <th></th>\n",
       "      <th>NT_GER</th>\n",
       "      <th>NT_FG</th>\n",
       "      <th>NT_CE</th>\n",
       "    </tr>\n",
       "  </thead>\n",
       "  <tbody>\n",
       "    <tr>\n",
       "      <th>count</th>\n",
       "      <td>386968.000000</td>\n",
       "      <td>386992.000000</td>\n",
       "      <td>386980.000000</td>\n",
       "    </tr>\n",
       "    <tr>\n",
       "      <th>mean</th>\n",
       "      <td>44.039703</td>\n",
       "      <td>39.824585</td>\n",
       "      <td>45.428849</td>\n",
       "    </tr>\n",
       "    <tr>\n",
       "      <th>std</th>\n",
       "      <td>14.532286</td>\n",
       "      <td>16.244141</td>\n",
       "      <td>16.631859</td>\n",
       "    </tr>\n",
       "    <tr>\n",
       "      <th>min</th>\n",
       "      <td>0.000000</td>\n",
       "      <td>0.000000</td>\n",
       "      <td>0.000000</td>\n",
       "    </tr>\n",
       "    <tr>\n",
       "      <th>25%</th>\n",
       "      <td>33.200000</td>\n",
       "      <td>28.500000</td>\n",
       "      <td>32.900000</td>\n",
       "    </tr>\n",
       "    <tr>\n",
       "      <th>50%</th>\n",
       "      <td>43.800000</td>\n",
       "      <td>39.300000</td>\n",
       "      <td>45.200000</td>\n",
       "    </tr>\n",
       "    <tr>\n",
       "      <th>75%</th>\n",
       "      <td>54.700000</td>\n",
       "      <td>51.300000</td>\n",
       "      <td>57.800000</td>\n",
       "    </tr>\n",
       "    <tr>\n",
       "      <th>max</th>\n",
       "      <td>93.000000</td>\n",
       "      <td>97.800000</td>\n",
       "      <td>100.000000</td>\n",
       "    </tr>\n",
       "  </tbody>\n",
       "</table>\n",
       "</div>"
      ],
      "text/plain": [
       "              NT_GER          NT_FG          NT_CE\n",
       "count  386968.000000  386992.000000  386980.000000\n",
       "mean       44.039703      39.824585      45.428849\n",
       "std        14.532286      16.244141      16.631859\n",
       "min         0.000000       0.000000       0.000000\n",
       "25%        33.200000      28.500000      32.900000\n",
       "50%        43.800000      39.300000      45.200000\n",
       "75%        54.700000      51.300000      57.800000\n",
       "max        93.000000      97.800000     100.000000"
      ]
     },
     "execution_count": 13,
     "metadata": {},
     "output_type": "execute_result"
    }
   ],
   "source": [
    "# Comparar as regiões - vamos agregar utilizando uma média\n",
    "\n",
    "enade[['NT_GER', 'NT_FG', 'NT_CE']].describe()"
   ]
  },
  {
   "cell_type": "code",
   "execution_count": 14,
   "id": "e3dfa725-ef9f-4063-8fbb-8bbcec27e0f4",
   "metadata": {},
   "outputs": [
    {
     "data": {
      "text/html": [
       "<div>\n",
       "<style scoped>\n",
       "    .dataframe tbody tr th:only-of-type {\n",
       "        vertical-align: middle;\n",
       "    }\n",
       "\n",
       "    .dataframe tbody tr th {\n",
       "        vertical-align: top;\n",
       "    }\n",
       "\n",
       "    .dataframe thead th {\n",
       "        text-align: right;\n",
       "    }\n",
       "</style>\n",
       "<table border=\"1\" class=\"dataframe\">\n",
       "  <thead>\n",
       "    <tr style=\"text-align: right;\">\n",
       "      <th></th>\n",
       "      <th>NT_GER</th>\n",
       "      <th>NT_FG</th>\n",
       "      <th>NT_CE</th>\n",
       "    </tr>\n",
       "    <tr>\n",
       "      <th>CO_REGIAO_CURSO</th>\n",
       "      <th></th>\n",
       "      <th></th>\n",
       "      <th></th>\n",
       "    </tr>\n",
       "  </thead>\n",
       "  <tbody>\n",
       "    <tr>\n",
       "      <th>1</th>\n",
       "      <td>40.277951</td>\n",
       "      <td>37.102598</td>\n",
       "      <td>41.318178</td>\n",
       "    </tr>\n",
       "    <tr>\n",
       "      <th>2</th>\n",
       "      <td>43.750868</td>\n",
       "      <td>40.053535</td>\n",
       "      <td>44.967358</td>\n",
       "    </tr>\n",
       "    <tr>\n",
       "      <th>3</th>\n",
       "      <td>43.978313</td>\n",
       "      <td>40.132506</td>\n",
       "      <td>45.246179</td>\n",
       "    </tr>\n",
       "    <tr>\n",
       "      <th>4</th>\n",
       "      <td>45.708881</td>\n",
       "      <td>40.058001</td>\n",
       "      <td>47.578998</td>\n",
       "    </tr>\n",
       "    <tr>\n",
       "      <th>5</th>\n",
       "      <td>44.562011</td>\n",
       "      <td>39.172682</td>\n",
       "      <td>46.330265</td>\n",
       "    </tr>\n",
       "  </tbody>\n",
       "</table>\n",
       "</div>"
      ],
      "text/plain": [
       "                    NT_GER      NT_FG      NT_CE\n",
       "CO_REGIAO_CURSO                                 \n",
       "1                40.277951  37.102598  41.318178\n",
       "2                43.750868  40.053535  44.967358\n",
       "3                43.978313  40.132506  45.246179\n",
       "4                45.708881  40.058001  47.578998\n",
       "5                44.562011  39.172682  46.330265"
      ]
     },
     "execution_count": 14,
     "metadata": {},
     "output_type": "execute_result"
    }
   ],
   "source": [
    "# Vamos comparar médias de notas para cada região do Brasil\n",
    "\n",
    "enade.groupby('CO_REGIAO_CURSO').agg({\n",
    "    'NT_GER': 'mean',\n",
    "    'NT_FG': 'mean',\n",
    "    'NT_CE': 'mean'\n",
    "})"
   ]
  },
  {
   "cell_type": "markdown",
   "id": "6e6377e9-dc3d-4393-80be-469f9fd7972b",
   "metadata": {},
   "source": [
    "### transformação"
   ]
  },
  {
   "cell_type": "markdown",
   "id": "ce5105af-6794-4ec4-8b39-8b79bf70af8f",
   "metadata": {},
   "source": [
    "- CO_IES\n",
    "- CO_CATEGAD\n",
    "- CO_GRUPO\n",
    "- CO_MODALIDADE\n",
    "- CO_UF_CURSO\n",
    "- CO_REGIAO_CURSO\n",
    "- NU_IDADE\n",
    "- TP_SEXO\n",
    "- NT_GER\n",
    "- NT_FG\n",
    "- NT_CE\n"
   ]
  },
  {
   "cell_type": "code",
   "execution_count": 15,
   "id": "5832427f-b6cd-4a04-b514-11ed746adbe7",
   "metadata": {},
   "outputs": [],
   "source": [
    "enade['DESC_PUBLICA'] = \"\"\n",
    "enade.loc[\n",
    "    enade.CO_CATEGAD.isin([118, 120, 121, 10005, 10006, 10007, 10008, 10009, 17634]),\n",
    "    \"DESC_PUBLICA\"\n",
    "] = \"Privado\""
   ]
  },
  {
   "cell_type": "code",
   "execution_count": 16,
   "id": "3880409c-1d90-40c0-98a1-a9cf10e265cb",
   "metadata": {},
   "outputs": [],
   "source": [
    "enade.loc[\n",
    "    enade.CO_CATEGAD.isin([93, 115, 116, 10001, 10002, 10003]),\n",
    "    \"DESC_PUBLICA\"\n",
    "]= \"Público\""
   ]
  },
  {
   "cell_type": "code",
   "execution_count": 17,
   "id": "f2f73ef4-d809-4098-b226-531c5774ecd7",
   "metadata": {},
   "outputs": [
    {
     "data": {
      "text/plain": [
       "Privado    0.767126\n",
       "Público    0.232690\n",
       "           0.000184\n",
       "Name: DESC_PUBLICA, dtype: float64"
      ]
     },
     "execution_count": 17,
     "metadata": {},
     "output_type": "execute_result"
    }
   ],
   "source": [
    "enade.DESC_PUBLICA.value_counts() / enade.shape[0]"
   ]
  },
  {
   "cell_type": "code",
   "execution_count": null,
   "id": "55a3b34d-9fd5-4d81-a4c4-1cc274605d39",
   "metadata": {},
   "outputs": [],
   "source": []
  },
  {
   "cell_type": "code",
   "execution_count": 18,
   "id": "d4713448-b9aa-48e5-b38d-e8bc430de2fa",
   "metadata": {},
   "outputs": [],
   "source": [
    "#Transformar a modalidade\n",
    "enade['CO_MODALIDADE'] = enade.CO_MODALIDADE.replace({\n",
    "    0 : 'EaD',\n",
    "    1 : 'Presencial'\n",
    "})"
   ]
  },
  {
   "cell_type": "code",
   "execution_count": 19,
   "id": "f0e27d19-efe1-4e58-9aa6-274ab4203598",
   "metadata": {},
   "outputs": [
    {
     "data": {
      "text/plain": [
       "Presencial    410542\n",
       "EaD            23388\n",
       "Name: CO_MODALIDADE, dtype: int64"
      ]
     },
     "execution_count": 19,
     "metadata": {},
     "output_type": "execute_result"
    }
   ],
   "source": [
    "enade.CO_MODALIDADE.value_counts()"
   ]
  },
  {
   "cell_type": "code",
   "execution_count": 20,
   "id": "ab32b932-8bc1-47cb-9a5c-9017da405dcc",
   "metadata": {},
   "outputs": [],
   "source": [
    "# trasnformar Região\n",
    "enade['CO_REGIAO_CURSO'] = enade.CO_REGIAO_CURSO.replace({\n",
    "    1: 'Norte',\n",
    "    2: 'Nordeste',\n",
    "    3: 'Sudeste',\n",
    "    4: 'Sul',\n",
    "    5: 'Centro-Oeste'\n",
    "})"
   ]
  },
  {
   "cell_type": "code",
   "execution_count": 21,
   "id": "3e2e03cf-d4e8-45ce-8d77-a4caef7b9047",
   "metadata": {},
   "outputs": [
    {
     "data": {
      "text/plain": [
       "Sudeste         202505\n",
       "Nordeste         91742\n",
       "Sul              76788\n",
       "Centro-Oeste     34192\n",
       "Norte            28703\n",
       "Name: CO_REGIAO_CURSO, dtype: int64"
      ]
     },
     "execution_count": 21,
     "metadata": {},
     "output_type": "execute_result"
    }
   ],
   "source": [
    "enade.CO_REGIAO_CURSO.value_counts()"
   ]
  },
  {
   "cell_type": "code",
   "execution_count": 23,
   "id": "c8b057aa-9aab-4f6a-af5e-6647e6cdf181",
   "metadata": {},
   "outputs": [],
   "source": [
    "# tranformando Cor Raça\n",
    "enade[\"DESC_COR\"] = enade.QE_I02.replace({\n",
    "    \"A\": 'Branca',\n",
    "    \"B\": 'Preta', \n",
    "    \"C\": 'Amarela',\n",
    "    \"D\": 'Parda',\n",
    "    \"E\": 'Indigena',\n",
    "    \"F\": pd.NA,\n",
    "    \" \": pd.NA\n",
    "})"
   ]
  },
  {
   "cell_type": "code",
   "execution_count": 24,
   "id": "fbf8fb9f-f94b-486c-b2da-71fb20b8dbf7",
   "metadata": {},
   "outputs": [
    {
     "data": {
      "text/plain": [
       "{'Branca': 220386,\n",
       " 'Parda': 135770,\n",
       " 'Preta': 32869,\n",
       " 'Amarela': 10093,\n",
       " 'Indigena': 1300}"
      ]
     },
     "execution_count": 24,
     "metadata": {},
     "output_type": "execute_result"
    }
   ],
   "source": [
    "dict(enade.DESC_COR.value_counts())"
   ]
  },
  {
   "cell_type": "markdown",
   "id": "c8d1f53a-a9bf-460a-93b3-43f834fd3de3",
   "metadata": {},
   "source": [
    " # Algumas perguntas para responder"
   ]
  },
  {
   "cell_type": "markdown",
   "id": "3be06d75-a089-4de3-accc-5002c4659b97",
   "metadata": {},
   "source": [
    "1. Qual a nota geralm média dos alunos da região Nordeste?"
   ]
  },
  {
   "cell_type": "code",
   "execution_count": 26,
   "id": "e6ed2118-38b4-45a1-bc52-d7bfa9ee07a1",
   "metadata": {},
   "outputs": [
    {
     "data": {
      "text/plain": [
       "43.750867656536954"
      ]
     },
     "execution_count": 26,
     "metadata": {},
     "output_type": "execute_result"
    }
   ],
   "source": [
    "enade.loc[\n",
    "    enade.CO_REGIAO_CURSO == 'Nordeste',\n",
    "    \"NT_GER\"\n",
    "].mean()"
   ]
  },
  {
   "cell_type": "markdown",
   "id": "7f337a22-33fe-4de8-985b-2db26a0306d2",
   "metadata": {},
   "source": [
    "2. Qual é a média da nota do componente especifico dos alunos do Rio Grande do SUL de curso de Engenharia Elétrica?"
   ]
  },
  {
   "cell_type": "code",
   "execution_count": 27,
   "id": "f10811d6-b810-4ee6-88a1-61e36e2d4bc2",
   "metadata": {},
   "outputs": [
    {
     "data": {
      "text/plain": [
       "34.79692671394829"
      ]
     },
     "execution_count": 27,
     "metadata": {},
     "output_type": "execute_result"
    }
   ],
   "source": [
    "enade.loc[\n",
    "    (enade.CO_UF_CURSO == 43) & \n",
    "    (enade.CO_GRUPO == 5806),\n",
    "    \"NT_CE\"\n",
    "].mean()"
   ]
  },
  {
   "cell_type": "markdown",
   "id": "f16f8325-41d2-421c-9c8d-795be66f77aa",
   "metadata": {},
   "source": [
    "3. Qual é a média da nota do componente de formção geral de alunas do sexo feminino, pardas, de Minas Gerais em cursos presenciais de Engenharia de Produção?\n"
   ]
  },
  {
   "cell_type": "code",
   "execution_count": 30,
   "id": "6c60b878-9eac-48cb-a6a4-4e0ae16548a3",
   "metadata": {},
   "outputs": [
    {
     "data": {
      "text/plain": [
       "40.04660033167494"
      ]
     },
     "execution_count": 30,
     "metadata": {},
     "output_type": "execute_result"
    }
   ],
   "source": [
    "enade.loc[\n",
    "    (enade.TP_SEXO == 'F') &\n",
    "    (enade.DESC_COR == 'Parda') &\n",
    "    (enade.CO_UF_CURSO == 31) &\n",
    "    (enade.CO_MODALIDADE == 'Presencial') &\n",
    "    (enade.CO_GRUPO == 6208),\n",
    "    \"NT_FG\"    \n",
    "].mean()"
   ]
  },
  {
   "cell_type": "code",
   "execution_count": null,
   "id": "a272d4b0-aa81-49cc-9fc4-2c7305800b29",
   "metadata": {},
   "outputs": [],
   "source": []
  }
 ],
 "metadata": {
  "kernelspec": {
   "display_name": "Python 3",
   "language": "python",
   "name": "python3"
  },
  "language_info": {
   "codemirror_mode": {
    "name": "ipython",
    "version": 3
   },
   "file_extension": ".py",
   "mimetype": "text/x-python",
   "name": "python",
   "nbconvert_exporter": "python",
   "pygments_lexer": "ipython3",
   "version": "3.8.8"
  }
 },
 "nbformat": 4,
 "nbformat_minor": 5
}
